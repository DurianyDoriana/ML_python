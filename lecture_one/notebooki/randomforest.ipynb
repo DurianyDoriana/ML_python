{
 "cells": [
  {
   "cell_type": "markdown",
   "metadata": {
    "colab_type": "text",
    "id": "view-in-github",
    "pycharm": {
     "name": "#%% md\n"
    }
   },
   "source": [
    "<a href=\"https://colab.research.google.com/github/Mati0106/ML_python/blob/main/lecture_one/randomforest.ipynb\" target=\"_parent\"><img src=\"https://colab.research.google.com/assets/colab-badge.svg\" alt=\"Open In Colab\"/></a>"
   ]
  },
  {
   "cell_type": "code",
   "execution_count": 1,
   "metadata": {
    "id": "HnuBYhGT9Ole",
    "pycharm": {
     "name": "#%%\n"
    }
   },
   "outputs": [],
   "source": [
    "import sklearn.datasets\n",
    "import sklearn.ensemble as ens\n",
    "import pandas as pd"
   ]
  },
  {
   "cell_type": "code",
   "execution_count": 2,
   "metadata": {
    "colab": {
     "base_uri": "https://localhost:8080/"
    },
    "id": "Go8huduK9PZG",
    "outputId": "4464fde9-4cfb-45d5-cb22-23108bdd4a9c",
    "pycharm": {
     "name": "#%%\n"
    }
   },
   "outputs": [
    {
     "data": {
      "text/plain": [
       "array([0, 0, 0, 0, 0, 0, 0, 0, 0, 0, 0, 0, 0, 0, 0, 0, 0, 0, 0, 0, 0, 0,\n",
       "       0, 0, 0, 0, 0, 0, 0, 0, 0, 0, 0, 0, 0, 0, 0, 0, 0, 0, 0, 0, 0, 0,\n",
       "       0, 0, 0, 0, 0, 0, 1, 1, 1, 1, 1, 1, 1, 1, 1, 1, 1, 1, 1, 1, 1, 1,\n",
       "       1, 1, 1, 1, 1, 1, 1, 1, 1, 1, 1, 1, 1, 1, 1, 1, 1, 1, 1, 1, 1, 1,\n",
       "       1, 1, 1, 1, 1, 1, 1, 1, 1, 1, 1, 1, 2, 2, 2, 2, 2, 2, 2, 2, 2, 2,\n",
       "       2, 2, 2, 2, 2, 2, 2, 2, 2, 2, 2, 2, 2, 2, 2, 2, 2, 2, 2, 2, 2, 2,\n",
       "       2, 2, 2, 2, 2, 2, 2, 2, 2, 2, 2, 2, 2, 2, 2, 2, 2, 2])"
      ]
     },
     "execution_count": 2,
     "metadata": {},
     "output_type": "execute_result"
    }
   ],
   "source": [
    "iris = sklearn.datasets.load_iris(as_frame=True)\n",
    "X_clf = pd.DataFrame(data=iris.data, columns=iris.feature_names)\n",
    "y_clf = iris.target\n",
    "model_clf = ens.RandomForestClassifier()\n",
    "model_clf.fit(X=X_clf, y=y_clf)\n",
    "model_clf.predict(X_clf)\n"
   ]
  },
  {
   "cell_type": "code",
   "execution_count": 3,
   "metadata": {
    "colab": {
     "base_uri": "https://localhost:8080/"
    },
    "id": "Q5Kv1Fmq9SiB",
    "outputId": "4d127765-5e1c-4d74-f499-49353dc43d16",
    "pycharm": {
     "name": "#%%\n"
    }
   },
   "outputs": [
    {
     "data": {
      "text/plain": [
       "array([176.67,  79.2 , 150.95, 202.5 , 122.21, 101.81, 112.67, 104.41,\n",
       "       129.91, 235.26, 106.6 , 102.31, 140.34, 185.29, 108.63, 182.27,\n",
       "       194.73, 158.16, 110.32, 135.84,  81.75,  68.92,  78.24, 244.03,\n",
       "       167.99, 182.66, 127.05, 118.34, 142.51, 247.49, 133.57,  63.22,\n",
       "       304.82,  95.04,  72.86, 111.82, 253.45, 229.98, 246.68, 122.38,\n",
       "       129.64,  82.73,  88.45,  89.57, 227.63,  68.99, 162.25, 135.62,\n",
       "        76.07, 159.95, 143.96, 210.13,  77.56, 114.13, 162.96, 105.11,\n",
       "       120.  ,  52.07, 148.24, 158.91,  66.26, 147.45,  54.31, 126.25,\n",
       "        96.46, 157.  , 141.89, 102.12, 141.29, 152.14,  63.4 , 262.  ,\n",
       "       190.35, 107.91, 105.9 ,  71.98, 177.84, 157.06, 221.66, 128.26,\n",
       "       156.2 ,  73.83,  61.59, 191.91,  69.48, 133.35,  72.53, 156.93,\n",
       "        61.03, 102.58,  89.28, 162.42,  87.86,  88.93,  94.34, 153.23,\n",
       "       169.02, 253.67,  99.36, 114.28, 157.52,  97.29, 249.65, 178.74,\n",
       "       107.42,  73.66, 131.3 , 141.1 , 231.57,  98.01,  99.09,  70.65,\n",
       "       216.25, 278.01, 263.48, 212.82, 264.63, 249.76, 177.43, 181.16,\n",
       "       159.18, 184.5 , 209.46, 138.15, 141.33, 170.28,  92.03, 116.32,\n",
       "       104.1 , 240.63, 258.93, 139.95, 104.47,  82.3 , 124.61, 260.7 ,\n",
       "        84.02, 258.56, 312.68, 253.68, 137.29, 283.66, 209.18,  79.55,\n",
       "       168.45, 235.56, 174.69, 180.49, 128.03, 132.24, 240.03, 105.13,\n",
       "       254.31,  84.83, 194.33, 198.41,  73.91,  97.26, 100.73, 210.27,\n",
       "        62.81, 232.73, 154.84, 163.23, 183.54,  67.71,  80.4 , 235.21,\n",
       "       262.22, 163.95,  54.6 ,  82.04, 281.57, 104.29, 159.49, 123.14,\n",
       "       216.31, 221.31,  80.4 , 154.39, 137.93,  78.3 , 150.63, 165.05,\n",
       "       241.89, 126.21, 152.94, 119.94, 134.09,  88.14, 250.03, 169.58,\n",
       "        90.81, 130.26, 116.55, 145.81,  81.19, 146.82, 143.01, 120.66,\n",
       "       138.31,  54.91, 190.21, 210.43, 241.55, 156.21, 184.72, 212.53,\n",
       "       181.54, 100.31, 174.85, 119.03,  89.11,  67.98,  73.55, 274.87,\n",
       "       237.89, 266.82, 186.44, 167.99,  79.76, 113.02, 214.94, 139.24,\n",
       "        78.98, 220.35,  85.11, 102.58, 137.86,  61.34, 222.43, 135.81,\n",
       "       219.2 , 109.87, 246.86, 132.33, 107.59,  74.19, 229.16, 240.79,\n",
       "       269.56, 153.84,  83.64,  58.36, 164.22, 106.31,  94.48,  79.21,\n",
       "       240.32, 218.36, 287.67, 236.79, 120.3 , 178.98, 291.57, 132.52,\n",
       "       268.67,  75.8 , 114.18,  71.46,  52.97, 117.73, 282.63, 104.29,\n",
       "       143.45,  95.49,  56.52, 126.92, 264.35,  87.78, 215.56, 151.59,\n",
       "       168.52, 214.97,  96.64, 114.7 , 264.85,  74.75, 109.42, 165.77,\n",
       "       240.52, 107.17, 200.95, 144.91, 164.01, 214.73,  66.79, 195.13,\n",
       "        81.46, 125.67, 290.57, 243.32,  85.37, 180.25,  67.21, 118.29,\n",
       "        86.31,  65.76, 126.61,  93.35, 263.84,  78.71, 201.82, 237.07,\n",
       "       210.31, 128.37,  75.49, 169.69, 102.32, 149.14, 143.36, 165.99,\n",
       "       130.6 , 198.46, 149.54,  94.27, 221.86, 169.59, 127.9 , 194.25,\n",
       "       138.8 , 239.34, 253.54, 231.44, 221.85, 212.62, 151.22, 232.79,\n",
       "       119.68, 119.82, 216.59, 161.14, 275.67, 175.17,  83.76,  90.33,\n",
       "       273.32, 114.8 , 188.78, 107.87, 179.05, 231.32, 182.36, 126.73,\n",
       "       187.06, 140.1 , 160.51,  97.05, 136.54,  92.45, 254.69,  75.18,\n",
       "        76.05, 123.27, 247.13,  84.77,  67.14, 202.6 ,  87.14, 245.61,\n",
       "       236.51, 148.54, 295.38,  96.  , 202.96, 194.38, 237.7 , 250.5 ,\n",
       "       159.71, 156.97,  63.39, 192.96,  73.89, 151.42, 143.71, 206.16,\n",
       "       157.43, 211.26, 221.29,  71.16, 108.11, 116.28, 170.44,  95.51,\n",
       "        97.73, 174.15,  84.11, 176.15, 131.24,  60.32, 269.67,  66.75,\n",
       "       113.3 ,  90.7 , 250.83, 230.61,  62.54, 192.13, 225.06, 218.45,\n",
       "       178.45,  87.11, 158.07, 271.13, 241.04, 279.14,  75.02, 155.29,\n",
       "       191.57, 180.15, 172.24, 135.73, 261.55, 100.37, 148.9 , 170.48,\n",
       "       220.13,  87.81, 105.17,  54.06, 139.93, 204.88, 222.31, 125.6 ,\n",
       "       144.64, 131.6 , 148.34,  98.6 , 287.79,  92.27, 151.94,  77.21,\n",
       "       200.75,  72.  ,  66.15,  84.28,  60.43, 200.58, 110.24, 118.79,\n",
       "       208.74,  76.68])"
      ]
     },
     "execution_count": 3,
     "metadata": {},
     "output_type": "execute_result"
    }
   ],
   "source": [
    "boston = sklearn.datasets.load_diabetes()\n",
    "X_reg = pd.DataFrame(data=boston.data, columns=boston.feature_names)\n",
    "y_reg = boston.target\n",
    "model_reg = ens.RandomForestRegressor()\n",
    "model_reg.fit(X=X_reg, y=y_reg)\n",
    "model_reg.predict(X_reg)"
   ]
  },
  {
   "cell_type": "code",
   "execution_count": null,
   "metadata": {
    "pycharm": {
     "name": "#%%\n"
    }
   },
   "outputs": [],
   "source": [
    "from sklearn.inspection import permutation_importance\n",
    "r = permutation_importance(model_reg, X_reg, y_reg,n_repeats=30,random_state=0)"
   ]
  },
  {
   "cell_type": "code",
   "execution_count": null,
   "metadata": {
    "pycharm": {
     "name": "#%%\n"
    }
   },
   "outputs": [],
   "source": [
    "X_reg"
   ]
  },
  {
   "cell_type": "code",
   "execution_count": null,
   "metadata": {
    "pycharm": {
     "name": "#%%\n"
    }
   },
   "outputs": [],
   "source": []
  },
  {
   "cell_type": "code",
   "execution_count": null,
   "metadata": {
    "pycharm": {
     "name": "#%%\n"
    }
   },
   "outputs": [],
   "source": [
    "r"
   ]
  },
  {
   "cell_type": "code",
   "execution_count": null,
   "metadata": {
    "pycharm": {
     "name": "#%%\n"
    }
   },
   "outputs": [],
   "source": [
    "import numpy as np\n",
    "import matplotlib.pyplot as plt \n",
    " \n",
    "  \n",
    "# creating the dataset\n",
    "data = {'C':20, 'C++':15, 'Java':30, \n",
    "        'Python':35}\n",
    "courses = list(X_reg.columns)\n",
    "values = list(r['importances_mean'])\n",
    "  \n",
    "fig = plt.figure(figsize = (10, 5))\n",
    " \n",
    "# creating the bar plot\n",
    "plt.bar(courses, values, color ='maroon', \n",
    "        width = 0.4)\n",
    " \n",
    "plt.xlabel(\"Courses offered\")\n",
    "plt.ylabel(\"No. of students enrolled\")\n",
    "plt.title(\"Students enrolled in different courses\")\n",
    "plt.show()"
   ]
  },
  {
   "cell_type": "code",
   "execution_count": null,
   "metadata": {
    "pycharm": {
     "name": "#%%\n"
    }
   },
   "outputs": [],
   "source": []
  },
  {
   "cell_type": "code",
   "execution_count": 11,
   "metadata": {
    "pycharm": {
     "name": "#%%\n"
    }
   },
   "outputs": [
    {
     "data": {
      "text/html": [
       "<div>\n",
       "<style scoped>\n",
       "    .dataframe tbody tr th:only-of-type {\n",
       "        vertical-align: middle;\n",
       "    }\n",
       "\n",
       "    .dataframe tbody tr th {\n",
       "        vertical-align: top;\n",
       "    }\n",
       "\n",
       "    .dataframe thead th {\n",
       "        text-align: right;\n",
       "    }\n",
       "</style>\n",
       "<table border=\"1\" class=\"dataframe\">\n",
       "  <thead>\n",
       "    <tr style=\"text-align: right;\">\n",
       "      <th></th>\n",
       "      <th>age</th>\n",
       "      <th>sex</th>\n",
       "      <th>bmi</th>\n",
       "      <th>bp</th>\n",
       "      <th>s1</th>\n",
       "      <th>s2</th>\n",
       "      <th>s3</th>\n",
       "      <th>s4</th>\n",
       "      <th>s5</th>\n",
       "      <th>s6</th>\n",
       "    </tr>\n",
       "  </thead>\n",
       "  <tbody>\n",
       "    <tr>\n",
       "      <th>0</th>\n",
       "      <td>0.038076</td>\n",
       "      <td>0.050680</td>\n",
       "      <td>0.061696</td>\n",
       "      <td>0.021872</td>\n",
       "      <td>-0.044223</td>\n",
       "      <td>-0.034821</td>\n",
       "      <td>-0.043401</td>\n",
       "      <td>-0.002592</td>\n",
       "      <td>0.019907</td>\n",
       "      <td>-0.017646</td>\n",
       "    </tr>\n",
       "    <tr>\n",
       "      <th>1</th>\n",
       "      <td>-0.001882</td>\n",
       "      <td>-0.044642</td>\n",
       "      <td>-0.051474</td>\n",
       "      <td>-0.026328</td>\n",
       "      <td>-0.008449</td>\n",
       "      <td>-0.019163</td>\n",
       "      <td>0.074412</td>\n",
       "      <td>-0.039493</td>\n",
       "      <td>-0.068332</td>\n",
       "      <td>-0.092204</td>\n",
       "    </tr>\n",
       "    <tr>\n",
       "      <th>2</th>\n",
       "      <td>0.085299</td>\n",
       "      <td>0.050680</td>\n",
       "      <td>0.044451</td>\n",
       "      <td>-0.005670</td>\n",
       "      <td>-0.045599</td>\n",
       "      <td>-0.034194</td>\n",
       "      <td>-0.032356</td>\n",
       "      <td>-0.002592</td>\n",
       "      <td>0.002861</td>\n",
       "      <td>-0.025930</td>\n",
       "    </tr>\n",
       "    <tr>\n",
       "      <th>3</th>\n",
       "      <td>-0.089063</td>\n",
       "      <td>-0.044642</td>\n",
       "      <td>-0.011595</td>\n",
       "      <td>-0.036656</td>\n",
       "      <td>0.012191</td>\n",
       "      <td>0.024991</td>\n",
       "      <td>-0.036038</td>\n",
       "      <td>0.034309</td>\n",
       "      <td>0.022688</td>\n",
       "      <td>-0.009362</td>\n",
       "    </tr>\n",
       "    <tr>\n",
       "      <th>4</th>\n",
       "      <td>0.005383</td>\n",
       "      <td>-0.044642</td>\n",
       "      <td>-0.036385</td>\n",
       "      <td>0.021872</td>\n",
       "      <td>0.003935</td>\n",
       "      <td>0.015596</td>\n",
       "      <td>0.008142</td>\n",
       "      <td>-0.002592</td>\n",
       "      <td>-0.031988</td>\n",
       "      <td>-0.046641</td>\n",
       "    </tr>\n",
       "    <tr>\n",
       "      <th>...</th>\n",
       "      <td>...</td>\n",
       "      <td>...</td>\n",
       "      <td>...</td>\n",
       "      <td>...</td>\n",
       "      <td>...</td>\n",
       "      <td>...</td>\n",
       "      <td>...</td>\n",
       "      <td>...</td>\n",
       "      <td>...</td>\n",
       "      <td>...</td>\n",
       "    </tr>\n",
       "    <tr>\n",
       "      <th>437</th>\n",
       "      <td>0.041708</td>\n",
       "      <td>0.050680</td>\n",
       "      <td>0.019662</td>\n",
       "      <td>0.059744</td>\n",
       "      <td>-0.005697</td>\n",
       "      <td>-0.002566</td>\n",
       "      <td>-0.028674</td>\n",
       "      <td>-0.002592</td>\n",
       "      <td>0.031193</td>\n",
       "      <td>0.007207</td>\n",
       "    </tr>\n",
       "    <tr>\n",
       "      <th>438</th>\n",
       "      <td>-0.005515</td>\n",
       "      <td>0.050680</td>\n",
       "      <td>-0.015906</td>\n",
       "      <td>-0.067642</td>\n",
       "      <td>0.049341</td>\n",
       "      <td>0.079165</td>\n",
       "      <td>-0.028674</td>\n",
       "      <td>0.034309</td>\n",
       "      <td>-0.018114</td>\n",
       "      <td>0.044485</td>\n",
       "    </tr>\n",
       "    <tr>\n",
       "      <th>439</th>\n",
       "      <td>0.041708</td>\n",
       "      <td>0.050680</td>\n",
       "      <td>-0.015906</td>\n",
       "      <td>0.017293</td>\n",
       "      <td>-0.037344</td>\n",
       "      <td>-0.013840</td>\n",
       "      <td>-0.024993</td>\n",
       "      <td>-0.011080</td>\n",
       "      <td>-0.046883</td>\n",
       "      <td>0.015491</td>\n",
       "    </tr>\n",
       "    <tr>\n",
       "      <th>440</th>\n",
       "      <td>-0.045472</td>\n",
       "      <td>-0.044642</td>\n",
       "      <td>0.039062</td>\n",
       "      <td>0.001215</td>\n",
       "      <td>0.016318</td>\n",
       "      <td>0.015283</td>\n",
       "      <td>-0.028674</td>\n",
       "      <td>0.026560</td>\n",
       "      <td>0.044529</td>\n",
       "      <td>-0.025930</td>\n",
       "    </tr>\n",
       "    <tr>\n",
       "      <th>441</th>\n",
       "      <td>-0.045472</td>\n",
       "      <td>-0.044642</td>\n",
       "      <td>-0.073030</td>\n",
       "      <td>-0.081413</td>\n",
       "      <td>0.083740</td>\n",
       "      <td>0.027809</td>\n",
       "      <td>0.173816</td>\n",
       "      <td>-0.039493</td>\n",
       "      <td>-0.004222</td>\n",
       "      <td>0.003064</td>\n",
       "    </tr>\n",
       "  </tbody>\n",
       "</table>\n",
       "<p>442 rows × 10 columns</p>\n",
       "</div>"
      ],
      "text/plain": [
       "          age       sex       bmi        bp        s1        s2        s3  \\\n",
       "0    0.038076  0.050680  0.061696  0.021872 -0.044223 -0.034821 -0.043401   \n",
       "1   -0.001882 -0.044642 -0.051474 -0.026328 -0.008449 -0.019163  0.074412   \n",
       "2    0.085299  0.050680  0.044451 -0.005670 -0.045599 -0.034194 -0.032356   \n",
       "3   -0.089063 -0.044642 -0.011595 -0.036656  0.012191  0.024991 -0.036038   \n",
       "4    0.005383 -0.044642 -0.036385  0.021872  0.003935  0.015596  0.008142   \n",
       "..        ...       ...       ...       ...       ...       ...       ...   \n",
       "437  0.041708  0.050680  0.019662  0.059744 -0.005697 -0.002566 -0.028674   \n",
       "438 -0.005515  0.050680 -0.015906 -0.067642  0.049341  0.079165 -0.028674   \n",
       "439  0.041708  0.050680 -0.015906  0.017293 -0.037344 -0.013840 -0.024993   \n",
       "440 -0.045472 -0.044642  0.039062  0.001215  0.016318  0.015283 -0.028674   \n",
       "441 -0.045472 -0.044642 -0.073030 -0.081413  0.083740  0.027809  0.173816   \n",
       "\n",
       "           s4        s5        s6  \n",
       "0   -0.002592  0.019907 -0.017646  \n",
       "1   -0.039493 -0.068332 -0.092204  \n",
       "2   -0.002592  0.002861 -0.025930  \n",
       "3    0.034309  0.022688 -0.009362  \n",
       "4   -0.002592 -0.031988 -0.046641  \n",
       "..        ...       ...       ...  \n",
       "437 -0.002592  0.031193  0.007207  \n",
       "438  0.034309 -0.018114  0.044485  \n",
       "439 -0.011080 -0.046883  0.015491  \n",
       "440  0.026560  0.044529 -0.025930  \n",
       "441 -0.039493 -0.004222  0.003064  \n",
       "\n",
       "[442 rows x 10 columns]"
      ]
     },
     "execution_count": 11,
     "metadata": {},
     "output_type": "execute_result"
    }
   ],
   "source": [
    "X_reg"
   ]
  },
  {
   "cell_type": "code",
   "execution_count": null,
   "metadata": {
    "pycharm": {
     "name": "#%%\n"
    }
   },
   "outputs": [],
   "source": []
  },
  {
   "cell_type": "code",
   "execution_count": 9,
   "metadata": {
    "pycharm": {
     "name": "#%%\n"
    }
   },
   "outputs": [
    {
     "data": {
      "text/plain": [
       "{'importances_mean': array([0.07477436, 0.02574449, 0.48221823, 0.14442335, 0.0524389 ,\n",
       "        0.06941841, 0.08712344, 0.02248168, 0.47191312, 0.08951537]),\n",
       " 'importances_std': array([0.0044254 , 0.00274178, 0.02258769, 0.01092325, 0.00268771,\n",
       "        0.00518384, 0.00444446, 0.0018802 , 0.03293503, 0.00609127]),\n",
       " 'importances': array([[0.07982032, 0.06978217, 0.0760931 , 0.07338868, 0.06585781,\n",
       "         0.07738057, 0.07658346, 0.07747834, 0.07325234, 0.07419595,\n",
       "         0.07583752, 0.07674138, 0.07843293, 0.07503976, 0.07133454,\n",
       "         0.07167081, 0.07111589, 0.07456551, 0.07221607, 0.07787358,\n",
       "         0.06480424, 0.07761168, 0.07261996, 0.07032019, 0.07555958,\n",
       "         0.08290174, 0.06918481, 0.08538517, 0.07801775, 0.07816494],\n",
       "        [0.02394276, 0.02360997, 0.0258853 , 0.02757322, 0.0220416 ,\n",
       "         0.03209305, 0.028107  , 0.02490552, 0.02387544, 0.01897438,\n",
       "         0.02604085, 0.02665302, 0.02932201, 0.02826999, 0.02755925,\n",
       "         0.0305535 , 0.0255202 , 0.02588588, 0.02075499, 0.02628793,\n",
       "         0.02880149, 0.02402411, 0.02775643, 0.02699287, 0.02514987,\n",
       "         0.02536458, 0.02376153, 0.02284557, 0.02550521, 0.02427706],\n",
       "        [0.49865838, 0.47673442, 0.46752793, 0.44940415, 0.50327424,\n",
       "         0.51584142, 0.50980811, 0.52041027, 0.48395259, 0.47406261,\n",
       "         0.48056716, 0.49866535, 0.51212321, 0.50522004, 0.47312045,\n",
       "         0.46117761, 0.51043933, 0.45157268, 0.47792553, 0.45522462,\n",
       "         0.50234242, 0.43698078, 0.46477908, 0.50182659, 0.45905938,\n",
       "         0.45460316, 0.47115675, 0.47094165, 0.47637234, 0.50277455],\n",
       "        [0.14531915, 0.14519063, 0.1576863 , 0.13540056, 0.1411549 ,\n",
       "         0.14097103, 0.14994191, 0.14927176, 0.13753526, 0.13898074,\n",
       "         0.16052509, 0.16643847, 0.13897785, 0.12484102, 0.15171564,\n",
       "         0.13532687, 0.13091977, 0.14004386, 0.12479686, 0.15246641,\n",
       "         0.1580256 , 0.14053614, 0.15596402, 0.16282498, 0.13843283,\n",
       "         0.12638498, 0.14396332, 0.13591162, 0.14887598, 0.15427693],\n",
       "        [0.04836618, 0.05095369, 0.05320601, 0.05187177, 0.05294337,\n",
       "         0.05529544, 0.05637547, 0.05311249, 0.04941782, 0.0533712 ,\n",
       "         0.04883872, 0.05281518, 0.05132547, 0.05193797, 0.05420551,\n",
       "         0.05161444, 0.05718876, 0.05038176, 0.0514033 , 0.04562063,\n",
       "         0.05257572, 0.05545167, 0.05132777, 0.05503993, 0.05225867,\n",
       "         0.05755833, 0.04978154, 0.05622457, 0.05016685, 0.05253666],\n",
       "        [0.06358598, 0.06555134, 0.07046779, 0.07054007, 0.0666773 ,\n",
       "         0.07496333, 0.06777549, 0.06353824, 0.06797856, 0.08232947,\n",
       "         0.0649749 , 0.07205692, 0.07078259, 0.06943341, 0.07719268,\n",
       "         0.07453646, 0.07599591, 0.06290435, 0.06991265, 0.06107781,\n",
       "         0.06177102, 0.07769523, 0.06140416, 0.07110452, 0.06568301,\n",
       "         0.0677127 , 0.0723903 , 0.07236982, 0.06778185, 0.07236447],\n",
       "        [0.08928113, 0.08881345, 0.08255189, 0.0865563 , 0.08221376,\n",
       "         0.0816926 , 0.08908495, 0.0884936 , 0.09292035, 0.09510903,\n",
       "         0.08609666, 0.09872911, 0.07877366, 0.09131341, 0.08873056,\n",
       "         0.08337755, 0.08193959, 0.0880636 , 0.08753052, 0.08427685,\n",
       "         0.08886999, 0.08861945, 0.08810619, 0.09359835, 0.08672728,\n",
       "         0.08024295, 0.08607186, 0.08868552, 0.08557707, 0.08165606],\n",
       "        [0.02289897, 0.02019259, 0.02191845, 0.02492193, 0.02176712,\n",
       "         0.02185781, 0.02303619, 0.01944208, 0.02500544, 0.02470272,\n",
       "         0.02316174, 0.02655902, 0.01971103, 0.01970283, 0.02285754,\n",
       "         0.02348805, 0.01985246, 0.02071222, 0.0229065 , 0.0237958 ,\n",
       "         0.02296303, 0.02487639, 0.02109618, 0.02226398, 0.02208268,\n",
       "         0.02236539, 0.025378  , 0.02073107, 0.02399634, 0.02020678],\n",
       "        [0.44023161, 0.48201471, 0.43978183, 0.47547811, 0.45776278,\n",
       "         0.44940302, 0.500099  , 0.39700015, 0.50504115, 0.45524055,\n",
       "         0.53954106, 0.4527372 , 0.4479135 , 0.41083186, 0.50130399,\n",
       "         0.46630217, 0.45541303, 0.44365951, 0.50849619, 0.49009499,\n",
       "         0.49276857, 0.44954508, 0.51008698, 0.52060884, 0.45938322,\n",
       "         0.47745149, 0.46317964, 0.45043345, 0.52964443, 0.48594547],\n",
       "        [0.08775146, 0.0994186 , 0.08988315, 0.0859912 , 0.09971368,\n",
       "         0.09348522, 0.08501257, 0.07552098, 0.08983785, 0.08904917,\n",
       "         0.08946583, 0.08931085, 0.08636634, 0.08421685, 0.09471942,\n",
       "         0.0972507 , 0.09544229, 0.07868395, 0.09675288, 0.09289289,\n",
       "         0.0882077 , 0.09260034, 0.07732378, 0.08850135, 0.09818156,\n",
       "         0.08393244, 0.09339441, 0.08972321, 0.08961659, 0.08321384]])}"
      ]
     },
     "execution_count": 9,
     "metadata": {},
     "output_type": "execute_result"
    }
   ],
   "source": [
    "r"
   ]
  },
  {
   "cell_type": "code",
   "execution_count": 8,
   "metadata": {
    "pycharm": {
     "name": "#%%\n"
    }
   },
   "outputs": [
    {
     "data": {
      "image/png": "[encoded data removed]",
      "text/plain": [
       "<Figure size 1000x500 with 1 Axes>"
      ]
     },
     "metadata": {},
     "output_type": "display_data"
    }
   ],
   "source": [
    "import numpy as np\n",
    "import matplotlib.pyplot as plt \n",
    " \n",
    "  \n",
    "# creating the dataset\n",
    "courses = list(X_reg.columns)\n",
    "values = list(r['importances_mean'])\n",
    "  \n",
    "fig = plt.figure(figsize = (10, 5))\n",
    " \n",
    "# creating the bar plot\n",
    "plt.bar(courses, values, color ='maroon', \n",
    "        width = 0.4)\n",
    " \n",
    "plt.xlabel(\"Courses offered\")\n",
    "plt.ylabel(\"No. of students enrolled\")\n",
    "plt.title(\"Students enrolled in different courses\")\n",
    "plt.show()"
   ]
  },
  {
   "cell_type": "code",
   "execution_count": null,
   "metadata": {
    "pycharm": {
     "name": "#%%\n"
    }
   },
   "outputs": [],
   "source": []
  }
 ],
 "metadata": {
  "colab": {
   "authorship_tag": "ABX9TyO7r8ND9Y1csPy5yeRl7872",
   "include_colab_link": true,
   "provenance": []
  },
  "kernelspec": {
   "display_name": "Python 3 (ipykernel)",
   "language": "python",
   "name": "python3"
  },
  "language_info": {
   "codemirror_mode": {
    "name": "ipython",
    "version": 3
   },
   "file_extension": ".py",
   "mimetype": "text/x-python",
   "name": "python",
   "nbconvert_exporter": "python",
   "pygments_lexer": "ipython3",
   "version": "3.11.5"
  }
 },
 "nbformat": 4,
 "nbformat_minor": 1
}
