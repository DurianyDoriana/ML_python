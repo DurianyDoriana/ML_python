{
  "nbformat": 4,
  "nbformat_minor": 0,
  "metadata": {
    "colab": {
      "provenance": [],
      "authorship_tag": "ABX9TyM6HLOb4ltPy/Ey5G0S+kXD",
      "include_colab_link": true
    },
    "kernelspec": {
      "name": "python3",
      "display_name": "Python 3"
    },
    "language_info": {
      "name": "python"
    }
  },
  "cells": [
    {
      "cell_type": "markdown",
      "metadata": {
        "id": "view-in-github",
        "colab_type": "text"
      },
      "source": [
        "<a href=\"https://colab.research.google.com/github/Mati0106/ML_python/blob/main/lecture_one/pandas_profiling.ipynb\" target=\"_parent\"><img src=\"https://colab.research.google.com/assets/colab-badge.svg\" alt=\"Open In Colab\"/></a>"
      ]
    },
    {
      "cell_type": "code",
      "execution_count": null,
      "metadata": {
        "id": "dBra5IEG1E0B"
      },
      "outputs": [],
      "source": [
        "import pandas as pd\n",
        "data = pd.read_csv('path_to_your_data')\n",
        "profile = data.profile_report(\n",
        "  title = \"Pandas Profiling Report\",\n",
        "  correlations = {\n",
        "    \"pearson\": {\"calculate\": True},\n",
        "    \"spearman\": {\"calculate\": True},\n",
        "    \"kendall\": {\"calculate\": True}\n",
        "  },\n",
        ")\n",
        "profile.to_file(\"pandas_profiled.html\")"
      ]
    }
  ]
}