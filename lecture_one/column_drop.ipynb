{
  "nbformat": 4,
  "nbformat_minor": 0,
  "metadata": {
    "colab": {
      "provenance": [],
      "authorship_tag": "ABX9TyMsQLdyyjouRqdmoSQGh7Qx",
      "include_colab_link": true
    },
    "kernelspec": {
      "name": "python3",
      "display_name": "Python 3"
    },
    "language_info": {
      "name": "python"
    }
  },
  "cells": [
    {
      "cell_type": "markdown",
      "metadata": {
        "id": "view-in-github",
        "colab_type": "text"
      },
      "source": [
        "<a href=\"https://colab.research.google.com/github/Mati0106/ML_python/blob/main/lecture_one/column_drop.ipynb\" target=\"_parent\"><img src=\"https://colab.research.google.com/assets/colab-badge.svg\" alt=\"Open In Colab\"/></a>"
      ]
    },
    {
      "cell_type": "code",
      "execution_count": null,
      "metadata": {
        "id": "S_S7SIt6-B4x"
      },
      "outputs": [],
      "source": [
        "import pandas as pd\n",
        "import sklearn.datasets\n",
        "\n",
        "iris = sklearn.datasets.load_iris(as_frame=True)\n",
        "data = pd.DataFrame(data=iris.data, columns=iris.feature_names)\n",
        "\n",
        "print(data.columns)\n",
        "\n",
        "col_to_drop = 'sepal length (cm)'\n",
        "cols_to_drop = ['sepal length (cm)','sepal width (cm)']\n",
        "\n",
        "new_data = data.drop(cols_to_drop, axis=1)\n",
        "\n",
        "# or\n",
        "\n",
        "data.drop(cols_to_drop, axis=1, inplace=True)\n"
      ]
    }
  ]
}